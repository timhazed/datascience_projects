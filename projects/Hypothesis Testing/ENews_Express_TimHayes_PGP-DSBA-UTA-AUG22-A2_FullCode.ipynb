{
 "cells": [
  {
   "cell_type": "markdown",
   "id": "6yDxo9u0d9Na",
   "metadata": {
    "id": "6yDxo9u0d9Na"
   },
   "source": [
    "**Prepared by: Tim Hayes**\n",
    "\n",
    "**Cohort: PGP-DSBA-UTA-AUG'22-A2**\n",
    "\n",
    "# Project Business Statistics: E-news Express\n",
    "\n",
    "**Marks: 60**"
   ]
  },
  {
   "cell_type": "markdown",
   "id": "SrLd-ICEmPSD",
   "metadata": {
    "id": "SrLd-ICEmPSD"
   },
   "source": [
    "## Define Problem Statement and Objectives"
   ]
  },
  {
   "cell_type": "markdown",
   "id": "186e68bc",
   "metadata": {},
   "source": [
    "### Business Context\n",
    "The advent of e-news, or electronic news, portals has offered us a great opportunity to quickly get updates on the day-to-day events occurring globally. The information on these portals is retrieved electronically from online databases, processed using a variety of software, and then transmitted to the users. There are multiple advantages of transmitting new electronically, like faster access to the content and the ability to utilize different technologies such as audio, graphics, video, and other interactive elements that are either not being used or aren’t common yet in traditional newspapers.\n",
    "\n",
    "E-news Express, an online news portal, aims to expand its business by acquiring new subscribers. With every visitor to the website taking certain actions based on their interest, the company plans to analyze these actions to understand user interests and determine how to drive better engagement. The executives at E-news Express are of the opinion that there has been a decline in new monthly subscribers compared to the past year because the current webpage is not designed well enough in terms of the outline & recommended content to keep customers engaged long enough to make a decision to subscribe.\n",
    "\n",
    "[Companies often analyze user responses to two variants of a product to decide which of the two variants is more effective. This experimental technique, known as A/B testing, is used to determine whether a new feature attracts users based on a chosen metric.]\n",
    "\n",
    "### Objective\n",
    "The design team of the company has researched and created a new landing page that has a new outline & more relevant content shown compared to the old page. In order to test the effectiveness of the new landing page in gathering new subscribers, the Data Science team conducted an experiment by randomly selecting 100 users and dividing them equally into two groups. The existing landing page was served to the first group (control group) and the new landing page to the second group (treatment group). Data regarding the interaction of users in both groups with the two versions of the landing page was collected. Being a data scientist in E-news Express, you have been asked to explore the data and perform a statistical analysis (at a significance level of 5%) to determine the effectiveness of the new landing page in gathering new subscribers for the news portal by answering the following questions:\n",
    "\n",
    "Do the users spend more time on the new landing page than on the existing landing page?\n",
    "\n",
    "Is the conversion rate (the proportion of users who visit the landing page and get converted) for the new page greater than the conversion rate for the old page?\n",
    "\n",
    "Does the converted status depend on the preferred language?\n",
    "\n",
    "Is the time spent on the new page the same for the different language users?\n",
    " \n",
    "\n",
    "### Data Dictionary\n",
    "The data contains information regarding the interaction of users in both groups with the two versions of the landing page.\n",
    "\n",
    "user_id - Unique user ID of the person visiting the website\n",
    "\n",
    "\n",
    "group - Whether the user belongs to the first group (control) or the second group (treatment)\n",
    "\n",
    "\n",
    "landing_page - Whether the landing page is new or old\n",
    "\n",
    "\n",
    "time_spent_on_the_page - Time (in minutes) spent by the user on the landing page\n",
    "\n",
    "\n",
    "converted - Whether the user gets converted to a subscriber of the news portal or not\n",
    "\n",
    "\n",
    "language_preferred - Language chosen by the user to view the landing page"
   ]
  },
  {
   "cell_type": "markdown",
   "id": "a6a3d218",
   "metadata": {
    "id": "a6a3d218"
   },
   "source": [
    "## Import all the necessary libraries"
   ]
  },
  {
   "cell_type": "code",
   "execution_count": 1,
   "id": "658c5dec",
   "metadata": {
    "id": "658c5dec"
   },
   "outputs": [],
   "source": [
    "# import libraries for data manipulation\n",
    "import pandas as pd #library used for data manipulation and analysis\n",
    "import numpy as np # library used for working with arrays.\n",
    "import matplotlib.pyplot as plt # library for plots and visualisations\n",
    "import seaborn as sns # library for visualisations\n",
    "import scipy.stats as stats # this library contains a large number of probability distributions as well as a growing library  of statistical functions.\n",
    "from scipy.stats import ttest_1samp\n",
    "from scipy.stats import norm\n",
    "from scipy.stats import ttest_ind\n",
    "from scipy.stats import ttest_rel\n",
    "from statsmodels.stats.proportion import proportions_ztest\n",
    "from scipy.stats import chi2_contingency\n",
    "from scipy.stats import levene\n",
    "from scipy.stats import f_oneway\n",
    "\n",
    "\n",
    "%matplotlib inline \n",
    "\n",
    "# to restrict the float value to 3 decimal places\n",
    "pd.set_option('display.float_format', lambda x: '%.3f' % x)"
   ]
  },
  {
   "cell_type": "markdown",
   "id": "6970dd99",
   "metadata": {
    "id": "6970dd99"
   },
   "source": [
    "## Reading the Data into a DataFrame"
   ]
  },
  {
   "cell_type": "code",
   "execution_count": 2,
   "id": "d3b95640",
   "metadata": {
    "id": "d3b95640"
   },
   "outputs": [],
   "source": [
    "df = pd.read_csv('abtest.csv')"
   ]
  },
  {
   "cell_type": "markdown",
   "id": "9d75cfa2",
   "metadata": {
    "id": "9d75cfa2"
   },
   "source": [
    "## Explore the dataset and extract insights using Exploratory Data Analysis"
   ]
  },
  {
   "cell_type": "markdown",
   "id": "27201534",
   "metadata": {
    "id": "27201534"
   },
   "source": [
    "- Data Overview\n",
    "  - Viewing the first and last few rows of the dataset\n",
    "  - Checking the shape of the dataset\n",
    "  - Getting the statistical summary for the variables\n",
    "- Check for missing values\n",
    "- Check for duplicates"
   ]
  },
  {
   "cell_type": "markdown",
   "id": "4c20a4d6",
   "metadata": {},
   "source": [
    "### View the top 5 rows and last 5 rows"
   ]
  },
  {
   "cell_type": "code",
   "execution_count": 3,
   "id": "5e163818",
   "metadata": {},
   "outputs": [
    {
     "data": {
      "text/html": [
       "<div>\n",
       "<style scoped>\n",
       "    .dataframe tbody tr th:only-of-type {\n",
       "        vertical-align: middle;\n",
       "    }\n",
       "\n",
       "    .dataframe tbody tr th {\n",
       "        vertical-align: top;\n",
       "    }\n",
       "\n",
       "    .dataframe thead th {\n",
       "        text-align: right;\n",
       "    }\n",
       "</style>\n",
       "<table border=\"1\" class=\"dataframe\">\n",
       "  <thead>\n",
       "    <tr style=\"text-align: right;\">\n",
       "      <th></th>\n",
       "      <th>user_id</th>\n",
       "      <th>group</th>\n",
       "      <th>landing_page</th>\n",
       "      <th>time_spent_on_the_page</th>\n",
       "      <th>converted</th>\n",
       "      <th>language_preferred</th>\n",
       "    </tr>\n",
       "  </thead>\n",
       "  <tbody>\n",
       "    <tr>\n",
       "      <th>0</th>\n",
       "      <td>546592</td>\n",
       "      <td>control</td>\n",
       "      <td>old</td>\n",
       "      <td>3.480</td>\n",
       "      <td>no</td>\n",
       "      <td>Spanish</td>\n",
       "    </tr>\n",
       "    <tr>\n",
       "      <th>1</th>\n",
       "      <td>546468</td>\n",
       "      <td>treatment</td>\n",
       "      <td>new</td>\n",
       "      <td>7.130</td>\n",
       "      <td>yes</td>\n",
       "      <td>English</td>\n",
       "    </tr>\n",
       "    <tr>\n",
       "      <th>2</th>\n",
       "      <td>546462</td>\n",
       "      <td>treatment</td>\n",
       "      <td>new</td>\n",
       "      <td>4.400</td>\n",
       "      <td>no</td>\n",
       "      <td>Spanish</td>\n",
       "    </tr>\n",
       "    <tr>\n",
       "      <th>3</th>\n",
       "      <td>546567</td>\n",
       "      <td>control</td>\n",
       "      <td>old</td>\n",
       "      <td>3.020</td>\n",
       "      <td>no</td>\n",
       "      <td>French</td>\n",
       "    </tr>\n",
       "    <tr>\n",
       "      <th>4</th>\n",
       "      <td>546459</td>\n",
       "      <td>treatment</td>\n",
       "      <td>new</td>\n",
       "      <td>4.750</td>\n",
       "      <td>yes</td>\n",
       "      <td>Spanish</td>\n",
       "    </tr>\n",
       "  </tbody>\n",
       "</table>\n",
       "</div>"
      ],
      "text/plain": [
       "   user_id      group landing_page  time_spent_on_the_page converted  \\\n",
       "0   546592    control          old                   3.480        no   \n",
       "1   546468  treatment          new                   7.130       yes   \n",
       "2   546462  treatment          new                   4.400        no   \n",
       "3   546567    control          old                   3.020        no   \n",
       "4   546459  treatment          new                   4.750       yes   \n",
       "\n",
       "  language_preferred  \n",
       "0            Spanish  \n",
       "1            English  \n",
       "2            Spanish  \n",
       "3             French  \n",
       "4            Spanish  "
      ]
     },
     "execution_count": 3,
     "metadata": {},
     "output_type": "execute_result"
    }
   ],
   "source": [
    "# returns the first 5 rows\n",
    "df.head()"
   ]
  },
  {
   "cell_type": "code",
   "execution_count": 4,
   "id": "00f28bff",
   "metadata": {},
   "outputs": [
    {
     "data": {
      "text/html": [
       "<div>\n",
       "<style scoped>\n",
       "    .dataframe tbody tr th:only-of-type {\n",
       "        vertical-align: middle;\n",
       "    }\n",
       "\n",
       "    .dataframe tbody tr th {\n",
       "        vertical-align: top;\n",
       "    }\n",
       "\n",
       "    .dataframe thead th {\n",
       "        text-align: right;\n",
       "    }\n",
       "</style>\n",
       "<table border=\"1\" class=\"dataframe\">\n",
       "  <thead>\n",
       "    <tr style=\"text-align: right;\">\n",
       "      <th></th>\n",
       "      <th>user_id</th>\n",
       "      <th>group</th>\n",
       "      <th>landing_page</th>\n",
       "      <th>time_spent_on_the_page</th>\n",
       "      <th>converted</th>\n",
       "      <th>language_preferred</th>\n",
       "    </tr>\n",
       "  </thead>\n",
       "  <tbody>\n",
       "    <tr>\n",
       "      <th>95</th>\n",
       "      <td>546446</td>\n",
       "      <td>treatment</td>\n",
       "      <td>new</td>\n",
       "      <td>5.150</td>\n",
       "      <td>no</td>\n",
       "      <td>Spanish</td>\n",
       "    </tr>\n",
       "    <tr>\n",
       "      <th>96</th>\n",
       "      <td>546544</td>\n",
       "      <td>control</td>\n",
       "      <td>old</td>\n",
       "      <td>6.520</td>\n",
       "      <td>yes</td>\n",
       "      <td>English</td>\n",
       "    </tr>\n",
       "    <tr>\n",
       "      <th>97</th>\n",
       "      <td>546472</td>\n",
       "      <td>treatment</td>\n",
       "      <td>new</td>\n",
       "      <td>7.070</td>\n",
       "      <td>yes</td>\n",
       "      <td>Spanish</td>\n",
       "    </tr>\n",
       "    <tr>\n",
       "      <th>98</th>\n",
       "      <td>546481</td>\n",
       "      <td>treatment</td>\n",
       "      <td>new</td>\n",
       "      <td>6.200</td>\n",
       "      <td>yes</td>\n",
       "      <td>Spanish</td>\n",
       "    </tr>\n",
       "    <tr>\n",
       "      <th>99</th>\n",
       "      <td>546483</td>\n",
       "      <td>treatment</td>\n",
       "      <td>new</td>\n",
       "      <td>5.860</td>\n",
       "      <td>yes</td>\n",
       "      <td>English</td>\n",
       "    </tr>\n",
       "  </tbody>\n",
       "</table>\n",
       "</div>"
      ],
      "text/plain": [
       "    user_id      group landing_page  time_spent_on_the_page converted  \\\n",
       "95   546446  treatment          new                   5.150        no   \n",
       "96   546544    control          old                   6.520       yes   \n",
       "97   546472  treatment          new                   7.070       yes   \n",
       "98   546481  treatment          new                   6.200       yes   \n",
       "99   546483  treatment          new                   5.860       yes   \n",
       "\n",
       "   language_preferred  \n",
       "95            Spanish  \n",
       "96            English  \n",
       "97            Spanish  \n",
       "98            Spanish  \n",
       "99            English  "
      ]
     },
     "execution_count": 4,
     "metadata": {},
     "output_type": "execute_result"
    }
   ],
   "source": [
    "# returns the last 5 rows\n",
    "df.tail()"
   ]
  },
  {
   "cell_type": "markdown",
   "id": "88d4c036",
   "metadata": {},
   "source": [
    "#### Observations:\n",
    "- The DataFrame has 6 columns as mentioned in the Data Dictionary.\n",
    "- The user_id column appears to be a unique identifier column for users.\n",
    "- The group column is a categorical column indicating if the user is in the control group or the treatment group.\n",
    "- landing_page is a categorical column indicating if the new of old landing page was used.\n",
    "- Additional columns are concerned with amount of time a user spent on a landing page, did they convert to a subscriber and the preferred language."
   ]
  },
  {
   "cell_type": "markdown",
   "id": "3e5d4baa",
   "metadata": {},
   "source": [
    "### Investigate the shape of the data"
   ]
  },
  {
   "cell_type": "code",
   "execution_count": 5,
   "id": "e1ad11d4",
   "metadata": {
    "id": "e1ad11d4"
   },
   "outputs": [
    {
     "name": "stdout",
     "output_type": "stream",
     "text": [
      "DataFrame has 100 rows and 6 columns\n"
     ]
    }
   ],
   "source": [
    "# Use shape() to get the dimensions of the dataframe\n",
    "df_shape = df.shape\n",
    "print(\"DataFrame has {} rows and {} columns\".format(df_shape[0], df_shape[1]))"
   ]
  },
  {
   "cell_type": "markdown",
   "id": "ee98d8e7",
   "metadata": {},
   "source": [
    "#### Observations:\n",
    "- There are 100 rows and 6 columns in the DataFrame."
   ]
  },
  {
   "cell_type": "markdown",
   "id": "53130890",
   "metadata": {},
   "source": [
    "### Check datatypes of Dataframe"
   ]
  },
  {
   "cell_type": "code",
   "execution_count": 6,
   "id": "a4a07700",
   "metadata": {},
   "outputs": [
    {
     "name": "stdout",
     "output_type": "stream",
     "text": [
      "<class 'pandas.core.frame.DataFrame'>\n",
      "RangeIndex: 100 entries, 0 to 99\n",
      "Data columns (total 6 columns):\n",
      " #   Column                  Non-Null Count  Dtype  \n",
      "---  ------                  --------------  -----  \n",
      " 0   user_id                 100 non-null    int64  \n",
      " 1   group                   100 non-null    object \n",
      " 2   landing_page            100 non-null    object \n",
      " 3   time_spent_on_the_page  100 non-null    float64\n",
      " 4   converted               100 non-null    object \n",
      " 5   language_preferred      100 non-null    object \n",
      "dtypes: float64(1), int64(1), object(4)\n",
      "memory usage: 4.8+ KB\n"
     ]
    }
   ],
   "source": [
    "df.info()"
   ]
  },
  {
   "cell_type": "markdown",
   "id": "fbb9ea50",
   "metadata": {},
   "source": [
    "#### Observations:\n",
    "- There is one float column, one int64 column and four object columns"
   ]
  },
  {
   "cell_type": "markdown",
   "id": "01852152",
   "metadata": {},
   "source": [
    "### Check for missing values"
   ]
  },
  {
   "cell_type": "code",
   "execution_count": 7,
   "id": "96a45b5a",
   "metadata": {},
   "outputs": [
    {
     "data": {
      "text/plain": [
       "user_id                   0\n",
       "group                     0\n",
       "landing_page              0\n",
       "time_spent_on_the_page    0\n",
       "converted                 0\n",
       "language_preferred        0\n",
       "dtype: int64"
      ]
     },
     "execution_count": 7,
     "metadata": {},
     "output_type": "execute_result"
    }
   ],
   "source": [
    "# Check for missing values\n",
    "df.isnull().sum()"
   ]
  },
  {
   "cell_type": "markdown",
   "id": "26df2bd1",
   "metadata": {},
   "source": [
    "#### Observations:\n",
    "- There are no missing values in the DataFrame."
   ]
  },
  {
   "cell_type": "markdown",
   "id": "b3d94e14",
   "metadata": {},
   "source": [
    "### Check for duplicate values"
   ]
  },
  {
   "cell_type": "code",
   "execution_count": 8,
   "id": "6164198f",
   "metadata": {},
   "outputs": [
    {
     "name": "stdout",
     "output_type": "stream",
     "text": [
      "Rows of duplicated data in the dataset 0\n"
     ]
    }
   ],
   "source": [
    "# See if we have an duplicated data\n",
    "print('Rows of duplicated data in the dataset {}'.format(df.duplicated().sum()))"
   ]
  },
  {
   "cell_type": "markdown",
   "id": "d1fca346",
   "metadata": {},
   "source": [
    "#### Observations:\n",
    "- There are no duplicate rows in the DataFrame."
   ]
  },
  {
   "cell_type": "markdown",
   "id": "5fd1e7f4",
   "metadata": {},
   "source": [
    "### Get a statistical summary of the data"
   ]
  },
  {
   "cell_type": "code",
   "execution_count": 9,
   "id": "478b18ae",
   "metadata": {},
   "outputs": [
    {
     "data": {
      "text/html": [
       "<div>\n",
       "<style scoped>\n",
       "    .dataframe tbody tr th:only-of-type {\n",
       "        vertical-align: middle;\n",
       "    }\n",
       "\n",
       "    .dataframe tbody tr th {\n",
       "        vertical-align: top;\n",
       "    }\n",
       "\n",
       "    .dataframe thead th {\n",
       "        text-align: right;\n",
       "    }\n",
       "</style>\n",
       "<table border=\"1\" class=\"dataframe\">\n",
       "  <thead>\n",
       "    <tr style=\"text-align: right;\">\n",
       "      <th></th>\n",
       "      <th>count</th>\n",
       "      <th>mean</th>\n",
       "      <th>std</th>\n",
       "      <th>min</th>\n",
       "      <th>25%</th>\n",
       "      <th>50%</th>\n",
       "      <th>75%</th>\n",
       "      <th>max</th>\n",
       "    </tr>\n",
       "  </thead>\n",
       "  <tbody>\n",
       "    <tr>\n",
       "      <th>user_id</th>\n",
       "      <td>100.000</td>\n",
       "      <td>546517.000</td>\n",
       "      <td>52.296</td>\n",
       "      <td>546443.000</td>\n",
       "      <td>546467.750</td>\n",
       "      <td>546492.500</td>\n",
       "      <td>546567.250</td>\n",
       "      <td>546592.000</td>\n",
       "    </tr>\n",
       "    <tr>\n",
       "      <th>time_spent_on_the_page</th>\n",
       "      <td>100.000</td>\n",
       "      <td>5.378</td>\n",
       "      <td>2.378</td>\n",
       "      <td>0.190</td>\n",
       "      <td>3.880</td>\n",
       "      <td>5.415</td>\n",
       "      <td>7.022</td>\n",
       "      <td>10.710</td>\n",
       "    </tr>\n",
       "  </tbody>\n",
       "</table>\n",
       "</div>"
      ],
      "text/plain": [
       "                         count       mean    std        min        25%  \\\n",
       "user_id                100.000 546517.000 52.296 546443.000 546467.750   \n",
       "time_spent_on_the_page 100.000      5.378  2.378      0.190      3.880   \n",
       "\n",
       "                              50%        75%        max  \n",
       "user_id                546492.500 546567.250 546592.000  \n",
       "time_spent_on_the_page      5.415      7.022     10.710  "
      ]
     },
     "execution_count": 9,
     "metadata": {},
     "output_type": "execute_result"
    }
   ],
   "source": [
    "# Use describe() to get a statistical summary\n",
    "df.describe().T"
   ]
  },
  {
   "cell_type": "markdown",
   "id": "1ee19d4f",
   "metadata": {},
   "source": [
    "#### Observations:\n",
    "- user_id is a unique identifier for each of the users.\n",
    "- The min for time_spent_on_the_page is .190 and the max is 10.71.\n",
    "- The mean time_spent_on_the_page is 5.378 which indicated that the data is left skewed since the mean is less than \n",
    "the median (5.415)."
   ]
  },
  {
   "cell_type": "markdown",
   "id": "56d1cd42",
   "metadata": {},
   "source": [
    "### Create a new_subscriber boolean so we can look for correlation relationships"
   ]
  },
  {
   "cell_type": "code",
   "execution_count": 10,
   "id": "f9cb0a1a",
   "metadata": {},
   "outputs": [],
   "source": [
    "# Calculate a boolean new_subscriber 1/0 column\n",
    "df['new_subscriber'] = df['converted'].apply(lambda x: 1 if x == 'yes' else 0)"
   ]
  },
  {
   "cell_type": "markdown",
   "id": "d461a199",
   "metadata": {},
   "source": [
    "### Create a new_landing_page boolean so we can look for correlation relationships"
   ]
  },
  {
   "cell_type": "code",
   "execution_count": 11,
   "id": "3d57b846",
   "metadata": {},
   "outputs": [],
   "source": [
    "# Calculate a boolean landing page 1/0 column\n",
    "df['new_landing_page'] = df['landing_page'].apply(lambda x: 1 if x == 'new' else 0)"
   ]
  },
  {
   "cell_type": "markdown",
   "id": "693cefb1",
   "metadata": {},
   "source": [
    "### Utility functions"
   ]
  },
  {
   "cell_type": "code",
   "execution_count": 12,
   "id": "40f33c19",
   "metadata": {},
   "outputs": [],
   "source": [
    "# Mask to filter out based on landing_page\n",
    "new_page_mask = (df['landing_page'] == 'new')\n",
    "old_page_mask = (df['landing_page'] == 'old')\n",
    "\n",
    "def output_pretty_boxplot(title, df, x, y=None, hue=None, figsize=None):\n",
    "    '''Output a customized nice looking standardized boxplot\n",
    "        :title: the title desired in the plot\n",
    "        :df: DataFrame to use\n",
    "        :x: The x axis variable to use in the plot\n",
    "        :y: The y axis variable to use in the plot default is None\n",
    "        :hue: The hue variable to use in the plot default to nNone\n",
    "        :figsize: The figurare size tuple to use in the plot default is None\n",
    "    ''' \n",
    "    # Use default figsize if not provided\n",
    "    if (figsize is None):\n",
    "        figsize=(10,3);      \n",
    "        \n",
    "    plt.figure(figsize=figsize);\n",
    "    \n",
    "    # Output boxplot with variables\n",
    "    sns.boxplot(data=df,x=x, y=y, showmeans=True, hue=hue);\n",
    "\n",
    "    plt.title(title);    \n",
    "    \n",
    "def output_pretty_countplot(title, df, x, order=None, hue=None, figsize=None):\n",
    "    '''Output a customized nice looking standardized countplot\n",
    "        :title: the title desired in the plot\n",
    "        :df: DataFrame to use\n",
    "        :x: The x axis variable to use in the plot\n",
    "        :order: The y axis variable to use in the plot default is None\n",
    "        :hue: The hue variable to use in the plot default is None\n",
    "        :figsize: The figure size tuple to use in the plot default is None\n",
    "    ''' \n",
    "    # Use default figsize if not provided\n",
    "    if (figsize is None):\n",
    "        figsize=(15,3.5);\n",
    "        \n",
    "    plt.figure(figsize=figsize);\n",
    "        \n",
    "    plt.xticks(rotation=45);\n",
    "    plt.rcParams[\"figure.figsize\"] = [7.0, 3.5]\n",
    "    plt.rcParams[\"figure.autolayout\"] = True\n",
    "       \n",
    "    # Ouput count plot\n",
    "    ax = sns.countplot(data=df,x=x,order=order,hue=hue);           \n",
    "        \n",
    "    # output the amounts on top of the bars\n",
    "    for p in ax.patches:\n",
    "        x = p.get_x() + p.get_width() / 2\n",
    "        y = p.get_y() + p.get_height() + (p.get_height()*0.01)\n",
    "        value = '{:.1f}'.format(p.get_height())\n",
    "        ax.text(x, y, value, ha=\"center\")\n",
    "\n",
    "    plt.title(title);\n",
    "    plt.show();\n",
    "    \n",
    "def output_pretty_histplot(title, df, x):\n",
    "    '''Output a customized nice looking standardized histplot\n",
    "        :title: the title desired in the plot\n",
    "        :df: DataFrame to use\n",
    "        :x: The x axis variable to use in the plot\n",
    "    '''\n",
    "       \n",
    "    plt.figure(figsize=(10,3));\n",
    "    sns.histplot(data=df,x=x,kde=True);\n",
    "    plt.title(title);\n",
    "    plt.show();\n",
    "\n",
    "def output_pretty_barplot(title, df, x, y, order=None, hue=None):\n",
    "    '''Output a customized nice looking standardized barplot\n",
    "        :title: the title desired in the plot\n",
    "        :df: DataFrame to use\n",
    "        :x: The x axis variable to use in the plot\n",
    "        :y: The y axis variable to use in the plot\n",
    "        :order: The y axis variable to use in the plot default is None\n",
    "        :hue: The hue variable to use in the plot default is None\n",
    "    ''' \n",
    "\n",
    "    g = sns.catplot(data=df,x=x,y=y,kind='bar',order=order, hue=hue);\n",
    "     \n",
    "    g.fig.set_size_inches(15, 4)\n",
    "    g.fig.subplots_adjust(top=0.81, right=0.86)\n",
    "\n",
    "    # extract the matplotlib axes_subplot objects from the FacetGrid\n",
    "    ax = g.facet_axis(0, 0)\n",
    "\n",
    "    # iterate through the axes containers and add amount to bar\n",
    "    for c in ax.containers:\n",
    "        labels = [f'{(v.get_height()):.2f}' for v in c]\n",
    "        ax.bar_label(c, labels=labels, label_type='edge')\n",
    "    \n",
    "    plt.title(title);\n",
    "    plt.xticks(rotation=45);\n",
    "    \n",
    "def output_pretty_crosstab_plot(title, x, y):\n",
    "    '''Output a customized nice looking standardized crosstab barplot\n",
    "        :title: the title desired in the plot\n",
    "        :df: DataFrame to use\n",
    "        :x: The x data to use in the plot\n",
    "        :y: The y data to use in the plot in the plot\n",
    "    ''' \n",
    "    crosstab_percentages = pd.crosstab(x, y, normalize='index')\n",
    "    crosstab_percentages.plot(kind='bar',stacked =True) \n",
    "    plt.legend()\n",
    "    plt.title(title);\n",
    "    plt.xticks(rotation=45);\n",
    "    plt.show()\n",
    "    return crosstab_percentages\n",
    "    \n",
    "def percent_diff(old, new):\n",
    "    '''Calculate percentage difference\n",
    "    :x: Old percentage\n",
    "    :y: New percentage\n",
    "    ''' \n",
    "    round_new = round(new,3)\n",
    "    round_old = round(old,3)\n",
    "    return ((round_new-round_old)/round_old)*100"
   ]
  },
  {
   "cell_type": "markdown",
   "id": "68f3b2c9",
   "metadata": {
    "id": "68f3b2c9"
   },
   "source": [
    "### Univariate Analysis"
   ]
  },
  {
   "cell_type": "markdown",
   "id": "ef8737fc",
   "metadata": {},
   "source": [
    "### Lets investigate user_id column"
   ]
  },
  {
   "cell_type": "code",
   "execution_count": 13,
   "id": "03024143",
   "metadata": {},
   "outputs": [
    {
     "name": "stdout",
     "output_type": "stream",
     "text": [
      "The number of unique users are 100\n"
     ]
    }
   ],
   "source": [
    "print('The number of unique users are {}'.format(df['user_id'].nunique()))"
   ]
  },
  {
   "cell_type": "markdown",
   "id": "b5744560",
   "metadata": {},
   "source": [
    "### Observations\n",
    "- There are 100 unique users in the dataset."
   ]
  },
  {
   "cell_type": "markdown",
   "id": "3f7e31f4",
   "metadata": {
    "id": "1932d0f3"
   },
   "source": [
    "### Lets investigate group column"
   ]
  },
  {
   "cell_type": "code",
   "execution_count": 14,
   "id": "f90cadc2",
   "metadata": {},
   "outputs": [
    {
     "name": "stdout",
     "output_type": "stream",
     "text": [
      "The groups are \n",
      "control     0.500\n",
      "treatment   0.500\n",
      "Name: group, dtype: float64\n"
     ]
    },
    {
     "data": {
      "image/png": "[encoded data removed]",
      "text/plain": [
       "<Figure size 1080x252 with 1 Axes>"
      ]
     },
     "metadata": {
      "needs_background": "light"
     },
     "output_type": "display_data"
    }
   ],
   "source": [
    "print('The groups are \\n{}'.format(df['group'].value_counts(normalize=True)))\n",
    "\n",
    "# countplot for group\n",
    "output_pretty_countplot('Countplot:Groups', df, 'group')"
   ]
  },
  {
   "cell_type": "markdown",
   "id": "c644c72b",
   "metadata": {},
   "source": [
    "### Observations\n",
    "- Group columns unique values are 'control' and 'treatment'.\n",
    "- Half the data is for control and half is for treatment."
   ]
  },
  {
   "cell_type": "markdown",
   "id": "d43c2887",
   "metadata": {},
   "source": [
    "### Lets investigate landing_page column"
   ]
  },
  {
   "cell_type": "code",
   "execution_count": 15,
   "id": "f123c36c",
   "metadata": {},
   "outputs": [
    {
     "data": {
      "image/png": "[encoded data removed]",
      "text/plain": [
       "<Figure size 1080x252 with 1 Axes>"
      ]
     },
     "metadata": {
      "needs_background": "light"
     },
     "output_type": "display_data"
    }
   ],
   "source": [
    "# countplot for group\n",
    "output_pretty_countplot('Countplot:Landing Page', df, 'landing_page')"
   ]
  },
  {
   "cell_type": "markdown",
   "id": "b1ea40ea",
   "metadata": {},
   "source": [
    "### Observations\n",
    "- Half the visits were for the new landing page and half were for the new landing page."
   ]
  },
  {
   "cell_type": "markdown",
   "id": "ba90b1d1",
   "metadata": {},
   "source": [
    "### Lets investigate time_spent_on_the_page column"
   ]
  },
  {
   "cell_type": "code",
   "execution_count": 16,
   "id": "b263e0c1",
   "metadata": {},
   "outputs": [
    {
     "data": {
      "image/png": "[encoded data removed]",
      "text/plain": [
       "<Figure size 720x216 with 1 Axes>"
      ]
     },
     "metadata": {
      "needs_background": "light"
     },
     "output_type": "display_data"
    }
   ],
   "source": [
    "# histplot for rating_numerical\n",
    "output_pretty_histplot('Histplot:time_spent_on_the_page', df, 'time_spent_on_the_page');"
   ]
  },
  {
   "cell_type": "code",
   "execution_count": 17,
   "id": "e6194c3f",
   "metadata": {},
   "outputs": [
    {
     "data": {
      "image/png": "[encoded data removed]",
      "text/plain": [
       "<Figure size 720x216 with 1 Axes>"
      ]
     },
     "metadata": {
      "needs_background": "light"
     },
     "output_type": "display_data"
    }
   ],
   "source": [
    "# boxplot for rating_numerical\n",
    "output_pretty_boxplot('Boxplot:time_spent_on_the_page', df, x='time_spent_on_the_page')"
   ]
  },
  {
   "cell_type": "markdown",
   "id": "4fa40dc9",
   "metadata": {},
   "source": [
    "### Observations\n",
    "- The min for time_spent_on_the_page is .190 and the max is 10.71.\n",
    "- The mean time_spent_on_the_page is 5.378 which indicated that the data is left skewed since the mean is less than the median (5.415).\n",
    "- There are no outliers in the data.\n",
    "- The data is multimodel and has two peaks."
   ]
  },
  {
   "cell_type": "markdown",
   "id": "92bb7c40",
   "metadata": {},
   "source": [
    "### Lets investigate converted column"
   ]
  },
  {
   "cell_type": "code",
   "execution_count": 18,
   "id": "8fa29cec",
   "metadata": {},
   "outputs": [
    {
     "data": {
      "image/png": "[encoded data removed]",
      "text/plain": [
       "<Figure size 1080x252 with 1 Axes>"
      ]
     },
     "metadata": {
      "needs_background": "light"
     },
     "output_type": "display_data"
    }
   ],
   "source": [
    "# countplot for group\n",
    "output_pretty_countplot('Countplot:Subscriber conversion', df, 'converted')"
   ]
  },
  {
   "cell_type": "markdown",
   "id": "47817c73",
   "metadata": {},
   "source": [
    "### Observations\n",
    "- 54 of the 100 visitors converted to a subscriber while 46 did not."
   ]
  },
  {
   "cell_type": "markdown",
   "id": "9181f5f7",
   "metadata": {},
   "source": [
    "### Lets investigate language_preferred column"
   ]
  },
  {
   "cell_type": "code",
   "execution_count": 19,
   "id": "248583af",
   "metadata": {},
   "outputs": [
    {
     "data": {
      "image/png": "[encoded data removed]",
      "text/plain": [
       "<Figure size 1080x252 with 1 Axes>"
      ]
     },
     "metadata": {
      "needs_background": "light"
     },
     "output_type": "display_data"
    }
   ],
   "source": [
    "# countplot for group\n",
    "output_pretty_countplot('Countplot:Language Preference', df, 'language_preferred')"
   ]
  },
  {
   "cell_type": "markdown",
   "id": "cdcc2a63",
   "metadata": {},
   "source": [
    "### Observations\n",
    "- 34 of the visitors preferred Spanish as there language.\n",
    "- 32 of the visitors preferred English as there language.\n",
    "- 34 of the visitors preferred French as there language."
   ]
  },
  {
   "cell_type": "markdown",
   "id": "fad2de2f",
   "metadata": {
    "id": "fad2de2f"
   },
   "source": [
    "### Bivariate Analysis"
   ]
  },
  {
   "cell_type": "markdown",
   "id": "d97511f7",
   "metadata": {},
   "source": [
    "### Lets investigate feature correlation via a heatmap"
   ]
  },
  {
   "cell_type": "code",
   "execution_count": 20,
   "id": "45785958",
   "metadata": {
    "scrolled": true
   },
   "outputs": [
    {
     "data": {
      "image/png": "[encoded data removed]",
      "text/plain": [
       "<Figure size 864x288 with 2 Axes>"
      ]
     },
     "metadata": {
      "needs_background": "light"
     },
     "output_type": "display_data"
    }
   ],
   "source": [
    "# Determine correlation between numerical variables\n",
    "plt.figure(figsize=(12,4))\n",
    "sns.heatmap(data=df.corr(), annot=True, cmap='Spectral');\n",
    "plt.xticks(rotation=45);"
   ]
  },
  {
   "cell_type": "markdown",
   "id": "2ed325d5",
   "metadata": {},
   "source": [
    "### Observations\n",
    "- new_subscriber boolean flag is positively correlated (.57) with time_spent_on_the_page.\n",
    "- new_landing_page boolean flag is positively correlated (.24) with new_subscriber.\n",
    "- new_landing_page boolean flag is positively correlated (.36) with time_spent_on_the_page."
   ]
  },
  {
   "cell_type": "markdown",
   "id": "280c9e3c",
   "metadata": {
    "id": "58e9a1d0"
   },
   "source": [
    "### Lets investigate landing_page in relation to time_spent_on_the_page"
   ]
  },
  {
   "cell_type": "code",
   "execution_count": 21,
   "id": "d6b85fd0",
   "metadata": {},
   "outputs": [
    {
     "name": "stdout",
     "output_type": "stream",
     "text": [
      "              count  mean   std   min   25%   50%   75%    max\n",
      "landing_page                                                  \n",
      "new          50.000 6.223 1.817 1.650 5.175 6.105 7.160 10.710\n",
      "old          50.000 4.532 2.582 0.190 2.720 4.380 6.442 10.300\n"
     ]
    },
    {
     "data": {
      "image/png": "[encoded data removed]",
      "text/plain": [
       "<Figure size 720x216 with 1 Axes>"
      ]
     },
     "metadata": {
      "needs_background": "light"
     },
     "output_type": "display_data"
    }
   ],
   "source": [
    "print(df.groupby('landing_page')['time_spent_on_the_page'].describe())\n",
    "\n",
    "# histplot for time_spent_on_the_page for old page\n",
    "output_pretty_histplot('Histplot:time_spent_on_the_page for old page', df[old_page_mask],\\\n",
    "                       'time_spent_on_the_page');"
   ]
  },
  {
   "cell_type": "code",
   "execution_count": 22,
   "id": "e6f20757",
   "metadata": {},
   "outputs": [
    {
     "data": {
      "image/png": "[encoded data removed]",
      "text/plain": [
       "<Figure size 720x216 with 1 Axes>"
      ]
     },
     "metadata": {
      "needs_background": "light"
     },
     "output_type": "display_data"
    }
   ],
   "source": [
    "# histplot for time_spent_on_the_page for new page\n",
    "output_pretty_histplot('Histplot:time_spent_on_the_page for new page', df[new_page_mask],\\\n",
    "                       'time_spent_on_the_page');"
   ]
  },
  {
   "cell_type": "code",
   "execution_count": 23,
   "id": "b39cd229",
   "metadata": {},
   "outputs": [
    {
     "data": {
      "image/png": "[encoded data removed]",
      "text/plain": [
       "<Figure size 720x360 with 1 Axes>"
      ]
     },
     "metadata": {
      "needs_background": "light"
     },
     "output_type": "display_data"
    }
   ],
   "source": [
    "# boxplot for time_spent_on_the_page by landing page\n",
    "output_pretty_boxplot('Boxplot:time_spent_on_the_page by landing page', df, x='landing_page',\\\n",
    "                     y='time_spent_on_the_page', figsize=(10,5));"
   ]
  },
  {
   "cell_type": "markdown",
   "id": "f5dc3cfb",
   "metadata": {},
   "source": [
    "### Observations\n",
    "- The time_spent_on_the_page for the old page is multimodel.\n",
    "- The mean time on the old page is 4.532 which is greater than the median of 4.38 indicating a right skew.\n",
    "\n",
    "\n",
    "- The time_spent_on_the_page for the new page is multimodel.\n",
    "- The mean time on the new page is 6.223 which is greater than the median of 6.105 indicating a right skew.\n",
    "- The time_spent_on_the_page for the new page has several outliers.\n",
    "\n",
    "\n",
    "- The kde for the new_page appears more normally distributed than for the old_page."
   ]
  },
  {
   "cell_type": "markdown",
   "id": "4485216a",
   "metadata": {},
   "source": [
    "### Lets investigate landing_page in relation to time_spent_on_the_page by conversion"
   ]
  },
  {
   "cell_type": "code",
   "execution_count": 24,
   "id": "2d93f129",
   "metadata": {},
   "outputs": [
    {
     "name": "stdout",
     "output_type": "stream",
     "text": [
      "Median time spent by landing page\n",
      "landing_page  converted\n",
      "new           no          4.680\n",
      "              yes         6.790\n",
      "old           no          3.050\n",
      "              yes         6.210\n",
      "Name: time_spent_on_the_page, dtype: float64\n",
      "\n",
      "Mean time spent by landing page\n",
      "landing_page  converted\n",
      "new           no          4.882\n",
      "              yes         6.914\n",
      "old           no          3.349\n",
      "              yes         6.166\n",
      "Name: time_spent_on_the_page, dtype: float64\n"
     ]
    },
    {
     "data": {
      "image/png": "[encoded data removed]",
      "text/plain": [
       "<Figure size 936x360 with 1 Axes>"
      ]
     },
     "metadata": {
      "needs_background": "light"
     },
     "output_type": "display_data"
    }
   ],
   "source": [
    "# Output a table of means and medians\n",
    "print('Median time spent by landing page\\n{}'.format(df.groupby(['landing_page','converted'])\\\n",
    "                                          [\"time_spent_on_the_page\"].median()))\n",
    "print('\\nMean time spent by landing page\\n{}'.format(df.groupby(['landing_page','converted'])\\\n",
    "                                          [\"time_spent_on_the_page\"].mean()))\n",
    "\n",
    "# Boxplot for landing_page vs time_spent_on_the_page with a conversion hue\n",
    "output_pretty_boxplot('Boxplot:landing_page vs time_spent_on_the_page broken down by conversion', df,\\\n",
    "                      x='landing_page',y='time_spent_on_the_page',hue='converted',\\\n",
    "                     figsize=(13,5));"
   ]
  },
  {
   "cell_type": "markdown",
   "id": "b1734a4d",
   "metadata": {},
   "source": [
    "### Observations\n",
    "- For the old landing page for visitors who did not convert the mean time on the page is 3.349 which is greater than the median (3.050) meaning the data is right skewed.\n",
    "- For the old landing page for visitors who did not convert there are outliers.\n",
    "\n",
    "- For the old landing page for visitors who did convert the mean time on the page is 6.166 which is less than the median (6.210) meaning the data is left skewed.\n",
    "- For the old landing page for visitors who converted there are outliers.\n",
    "\n",
    "- For the new landing page for visitors who did not convert the mean time on the page is 4.882 which is greater than the median (4.68) meaning the data is right skewed.\n",
    "- For the new landing page for visitors who did not convert there are outliers.\n",
    "\n",
    "- For the new landing page for visitors who did convert the mean time on the page is 6.914 which is less than the median (6.79) meaning the data is right skewed.\n",
    "- For the new landing page for visitors who converted there are outliers.\n"
   ]
  },
  {
   "cell_type": "markdown",
   "id": "522886b8",
   "metadata": {},
   "source": [
    "### Lets investigate landing_page in relation to conversion"
   ]
  },
  {
   "cell_type": "code",
   "execution_count": 25,
   "id": "9050aa42",
   "metadata": {},
   "outputs": [
    {
     "data": {
      "image/png": "[encoded data removed]",
      "text/plain": [
       "<Figure size 504x252 with 1 Axes>"
      ]
     },
     "metadata": {
      "needs_background": "light"
     },
     "output_type": "display_data"
    },
    {
     "data": {
      "text/html": [
       "<div>\n",
       "<style scoped>\n",
       "    .dataframe tbody tr th:only-of-type {\n",
       "        vertical-align: middle;\n",
       "    }\n",
       "\n",
       "    .dataframe tbody tr th {\n",
       "        vertical-align: top;\n",
       "    }\n",
       "\n",
       "    .dataframe thead th {\n",
       "        text-align: right;\n",
       "    }\n",
       "</style>\n",
       "<table border=\"1\" class=\"dataframe\">\n",
       "  <thead>\n",
       "    <tr style=\"text-align: right;\">\n",
       "      <th>converted</th>\n",
       "      <th>no</th>\n",
       "      <th>yes</th>\n",
       "    </tr>\n",
       "    <tr>\n",
       "      <th>landing_page</th>\n",
       "      <th></th>\n",
       "      <th></th>\n",
       "    </tr>\n",
       "  </thead>\n",
       "  <tbody>\n",
       "    <tr>\n",
       "      <th>new</th>\n",
       "      <td>0.340</td>\n",
       "      <td>0.660</td>\n",
       "    </tr>\n",
       "    <tr>\n",
       "      <th>old</th>\n",
       "      <td>0.580</td>\n",
       "      <td>0.420</td>\n",
       "    </tr>\n",
       "  </tbody>\n",
       "</table>\n",
       "</div>"
      ],
      "text/plain": [
       "converted       no   yes\n",
       "landing_page            \n",
       "new          0.340 0.660\n",
       "old          0.580 0.420"
      ]
     },
     "execution_count": 25,
     "metadata": {},
     "output_type": "execute_result"
    }
   ],
   "source": [
    "# Output crosstab plot of landing_page vs converted\n",
    "output_pretty_crosstab_plot('Barplot: Contigency table landing_page vs. conversion',\\\n",
    "                           df['landing_page'], df['converted'])"
   ]
  },
  {
   "cell_type": "markdown",
   "id": "2ab511df",
   "metadata": {},
   "source": [
    "### Observations\n",
    "- 66% of the visitors who used the new landing page converted to subscribers.\n",
    "- 42% of the visitors who used the old landing page converted to subscribers."
   ]
  },
  {
   "cell_type": "markdown",
   "id": "7df9f2c5",
   "metadata": {},
   "source": [
    "### Lets investigate landing_page in relation to time_spent_on_the_page by language_preferred"
   ]
  },
  {
   "cell_type": "code",
   "execution_count": 26,
   "id": "3baca951",
   "metadata": {},
   "outputs": [
    {
     "name": "stdout",
     "output_type": "stream",
     "text": [
      "Median for language_preferred\n",
      "language_preferred  landing_page\n",
      "English             new            6.865\n",
      "                    old            3.700\n",
      "French              new            5.420\n",
      "                    old            4.180\n",
      "Spanish             new            6.200\n",
      "                    old            4.750\n",
      "Name: time_spent_on_the_page, dtype: float64\n",
      "\n",
      "Mean for language_preferred\n",
      "language_preferred  landing_page\n",
      "English             new            6.664\n",
      "                    old            4.454\n",
      "French              new            6.196\n",
      "                    old            4.310\n",
      "Spanish             new            5.835\n",
      "                    old            4.828\n",
      "Name: time_spent_on_the_page, dtype: float64\n"
     ]
    },
    {
     "data": {
      "image/png": "[encoded data removed]",
      "text/plain": [
       "<Figure size 936x360 with 1 Axes>"
      ]
     },
     "metadata": {
      "needs_background": "light"
     },
     "output_type": "display_data"
    }
   ],
   "source": [
    "# Output a table of means and medians\n",
    "print('Median for language_preferred\\n{}'.format(df.groupby(['language_preferred','landing_page'])\\\n",
    "                                          [\"time_spent_on_the_page\"].median()))\n",
    "print('\\nMean for language_preferred\\n{}'.format(df.groupby(['language_preferred','landing_page'])\\\n",
    "                                          [\"time_spent_on_the_page\"].mean()))\n",
    "\n",
    "# Boxplot for landing_page vs time_spent_on_the_page with a language_preferred hue\n",
    "output_pretty_boxplot('Boxplot:landing_page vs time_spent_on_the_page broken down by language', df,\\\n",
    "                      x='landing_page',y='time_spent_on_the_page',hue='language_preferred',\\\n",
    "                     figsize=(13,5));"
   ]
  },
  {
   "cell_type": "markdown",
   "id": "9be9ed27",
   "metadata": {},
   "source": [
    "### Observations\n",
    "- For the old landing page for Spanish visitors the mean time on the page is 4.828 which is greater than the median (4.75) meaning the data is right skewed.\n",
    "- For the old landing page for Spanish visitors there are outliers.\n",
    "\n",
    "- For the old landing page for English visitors the mean time on the page is 4.454 which is greater than the median (3.7) meaning the data is right skewed.\n",
    "\n",
    "- For the old landing page for French visitors the mean time on the page is 4.31 which is greater than the median (4.18) meaning the data is right skewed.\n",
    "\n",
    "\n",
    "- For the new landing page for Spanish visitors the mean time on the page is 5.835 which is less than the median (6.200) meaning the data is left skewed.\n",
    "- For the new landing page for Spanish visitors there are outliers.\n",
    "\n",
    "- For the new landing page for English visitors the mean time on the page is 6.664 which is less than the median (6.865) meaning the data is left skewed.\n",
    "\n",
    "- For the new landing page for French visitors the mean time on the page is 6.196 which is greater than the median (5.420) meaning the data is right skewed.\n",
    "- For the new landing page for French visitors there are outliers."
   ]
  },
  {
   "cell_type": "markdown",
   "id": "97483554",
   "metadata": {},
   "source": [
    "### Lets investigate language_preferred in relation to conversion"
   ]
  },
  {
   "cell_type": "code",
   "execution_count": 27,
   "id": "558c51c2",
   "metadata": {},
   "outputs": [
    {
     "data": {
      "image/png": "[encoded data removed]",
      "text/plain": [
       "<Figure size 504x252 with 1 Axes>"
      ]
     },
     "metadata": {
      "needs_background": "light"
     },
     "output_type": "display_data"
    },
    {
     "data": {
      "text/html": [
       "<div>\n",
       "<style scoped>\n",
       "    .dataframe tbody tr th:only-of-type {\n",
       "        vertical-align: middle;\n",
       "    }\n",
       "\n",
       "    .dataframe tbody tr th {\n",
       "        vertical-align: top;\n",
       "    }\n",
       "\n",
       "    .dataframe thead th {\n",
       "        text-align: right;\n",
       "    }\n",
       "</style>\n",
       "<table border=\"1\" class=\"dataframe\">\n",
       "  <thead>\n",
       "    <tr style=\"text-align: right;\">\n",
       "      <th>converted</th>\n",
       "      <th>no</th>\n",
       "      <th>yes</th>\n",
       "    </tr>\n",
       "    <tr>\n",
       "      <th>language_preferred</th>\n",
       "      <th></th>\n",
       "      <th></th>\n",
       "    </tr>\n",
       "  </thead>\n",
       "  <tbody>\n",
       "    <tr>\n",
       "      <th>English</th>\n",
       "      <td>0.344</td>\n",
       "      <td>0.656</td>\n",
       "    </tr>\n",
       "    <tr>\n",
       "      <th>French</th>\n",
       "      <td>0.559</td>\n",
       "      <td>0.441</td>\n",
       "    </tr>\n",
       "    <tr>\n",
       "      <th>Spanish</th>\n",
       "      <td>0.471</td>\n",
       "      <td>0.529</td>\n",
       "    </tr>\n",
       "  </tbody>\n",
       "</table>\n",
       "</div>"
      ],
      "text/plain": [
       "converted             no   yes\n",
       "language_preferred            \n",
       "English            0.344 0.656\n",
       "French             0.559 0.441\n",
       "Spanish            0.471 0.529"
      ]
     },
     "execution_count": 27,
     "metadata": {},
     "output_type": "execute_result"
    }
   ],
   "source": [
    "# Output crosstab plot of language preferred vs converted\n",
    "output_pretty_crosstab_plot('Boxplot: Contingency table language preferred vs. converted', \\\n",
    "                           df['language_preferred'], df['converted'])"
   ]
  },
  {
   "cell_type": "markdown",
   "id": "e3043c27",
   "metadata": {},
   "source": [
    "### Observations\n",
    "- 65.6% of the English language visitors converted to subscribers.\n",
    "- 44.11% of the French language visitors converted to subscribers.\n",
    "- 52.9% of the Spanish language visitors converted to subscribers."
   ]
  },
  {
   "cell_type": "markdown",
   "id": "2e6add21",
   "metadata": {},
   "source": [
    "### Lets investigate language_preferred in relation to group and conversion"
   ]
  },
  {
   "cell_type": "code",
   "execution_count": 28,
   "id": "d4e251d8",
   "metadata": {},
   "outputs": [
    {
     "data": {
      "image/png": "[encoded data removed]",
      "text/plain": [
       "<Figure size 504x252 with 1 Axes>"
      ]
     },
     "metadata": {
      "needs_background": "light"
     },
     "output_type": "display_data"
    },
    {
     "name": "stdout",
     "output_type": "stream",
     "text": [
      "For English speakers the conversion rate improvement from old page to new is -9.16%.\n",
      "For French speakers the conversion rate improvement from old page to new is 301.14%.\n",
      "For Spanish speakers the conversion rate improvement from old page to new is 57.04%.\n"
     ]
    }
   ],
   "source": [
    "# Output crosstab plot language_preferred in relation group and conversion\n",
    "language_crosstab = output_pretty_crosstab_plot('Barplot: language_preferred in relation group and conversion',\\\n",
    "                            [df['language_preferred'], df['group']],\\\n",
    "                            df['converted'])\n",
    "\n",
    "english_improvement = percent_diff(language_crosstab.loc[('English', 'control')]['yes'],\n",
    "                            language_crosstab.loc[('English', 'treatment')]['yes'])\n",
    "french_improvement = percent_diff(language_crosstab.loc[('French', 'control')]['yes'],\n",
    "                            language_crosstab.loc[('French', 'treatment')]['yes'])\n",
    "spanish_improvement = percent_diff(language_crosstab.loc[('Spanish', 'control')]['yes'],\n",
    "                            language_crosstab.loc[('Spanish', 'treatment')]['yes'])\n",
    "print('For English speakers the conversion rate improvement from old page to new is {:.2f}%.'\\\n",
    "      .format(english_improvement))\n",
    "print('For French speakers the conversion rate improvement from old page to new is {:.2f}%.'\\\n",
    "      .format(french_improvement))\n",
    "print('For Spanish speakers the conversion rate improvement from old page to new is {:.2f}%.'\\\n",
    "      .format(spanish_improvement))"
   ]
  },
  {
   "cell_type": "markdown",
   "id": "3c168760",
   "metadata": {},
   "source": [
    "### Observations\n",
    "- For English speakers the conversion rate on the old page is 68.8% while on the new page its 62.5% which is a 9.16% drop in conversion. \n",
    "- For French speakers the conversion rate on the old page is 17.6% while on the new page its 70.6% which is a 301.14% increase in conversion. \n",
    "- For Spanish speakers the conversion rate on the old page is 41.2% while on the new page its 64.7% which is a 57.04% increase in conversion."
   ]
  },
  {
   "cell_type": "markdown",
   "id": "27906576",
   "metadata": {
    "id": "27906576"
   },
   "source": [
    "## 1. Do the users spend more time on the new landing page than the existing landing page?"
   ]
  },
  {
   "cell_type": "markdown",
   "id": "e5fdf0c8",
   "metadata": {
    "id": "e5fdf0c8"
   },
   "source": [
    "### Perform Visual Analysis"
   ]
  },
  {
   "cell_type": "code",
   "execution_count": 29,
   "id": "6eZJa41eg21n",
   "metadata": {
    "id": "6eZJa41eg21n"
   },
   "outputs": [
    {
     "data": {
      "image/png": "[encoded data removed]",
      "text/plain": [
       "<Figure size 720x216 with 1 Axes>"
      ]
     },
     "metadata": {
      "needs_background": "light"
     },
     "output_type": "display_data"
    }
   ],
   "source": [
    "# boxplot for time_spent_on_the_page by landing page\n",
    "output_pretty_boxplot('Boxplot:time_spent_on_the_page by landing page', df, x='landing_page',\\\n",
    "                     y='time_spent_on_the_page')"
   ]
  },
  {
   "cell_type": "markdown",
   "id": "f77cd943",
   "metadata": {},
   "source": [
    "### Observations\n",
    "- The time_spent_on_the_page for the old page is multimodel.\n",
    "- The mean time on the old page is 4.532 which is greater than the median of 4.38 indicating a right skew.\n",
    "\n",
    "\n",
    "- The time_spent_on_the_page for the new page is multimodel.\n",
    "- The mean time on the new page is 6.223 which is greater than the median of 6.105 indicating a right skew.\n",
    "- The time_spent_on_the_page for the new page has several outliers."
   ]
  },
  {
   "cell_type": "markdown",
   "id": "56b3dafd",
   "metadata": {
    "id": "56b3dafd"
   },
   "source": [
    "### Step 1: Define the null and alternate hypotheses"
   ]
  },
  {
   "cell_type": "markdown",
   "id": "d2ac77ef",
   "metadata": {
    "id": "d2ac77ef"
   },
   "source": [
    "Let $\\mu_1, \\mu_2$ be the mean time_spent_on_the_page for the new landing page and the existing landing page respectively.\n",
    "\n",
    "We will test the null hypothesis\n",
    "\n",
    ">$H_0:\\mu_1=\\mu_2$\n",
    "\n",
    "against the alternate hypothesis\n",
    "\n",
    ">$H_a:\\mu_1>\\mu_2$"
   ]
  },
  {
   "cell_type": "markdown",
   "id": "c7ee4907",
   "metadata": {
    "id": "c7ee4907"
   },
   "source": [
    "### Step 2: Select Appropriate test"
   ]
  },
  {
   "cell_type": "code",
   "execution_count": 30,
   "id": "b5727b96",
   "metadata": {},
   "outputs": [
    {
     "name": "stdout",
     "output_type": "stream",
     "text": [
      "\n",
      "Mean time spent by landing page\n",
      "landing_page  time_spent_on_the_page\n",
      "         new                   6.223\n",
      "         old                   4.532\n",
      "\n",
      "Stddev time spent by landing page\n",
      "landing_page  time_spent_on_the_page\n",
      "         new                   1.817\n",
      "         old                   2.582\n",
      "\n",
      "The difference of the means for time spent on the new landing page vs the old landing page is 1.69\n"
     ]
    }
   ],
   "source": [
    "# find the sample means and sample standard deviations for the two samples\n",
    "mean_time_spent_df = df.groupby(['landing_page'], as_index=False)\\\n",
    "                                       [[\"time_spent_on_the_page\"]].mean()\n",
    "print('\\nMean time spent by landing page\\n{}'.format(mean_time_spent_df.to_string(index=False)))\n",
    "\n",
    "stdev_time_spent_df = df.groupby(['landing_page'], as_index=False)\\\n",
    "                                        [['time_spent_on_the_page']].std()\n",
    "print('\\nStddev time spent by landing page\\n{}'.format(stdev_time_spent_df.to_string(index=False)))\n",
    "\n",
    "# Find the mean difference between time spent on the new and old landing page\n",
    "# to see if there is in fact a difference.\n",
    "diff = mean_time_spent_df.loc[0,'time_spent_on_the_page'] - \\\n",
    "            mean_time_spent_df.loc[1,'time_spent_on_the_page']\n",
    "print('\\nThe difference of the means for time spent on the new landing page vs the old landing page is {:.2f}'.\\\n",
    "      format(diff))"
   ]
  },
  {
   "cell_type": "markdown",
   "id": "2c183cd7",
   "metadata": {
    "id": "2c183cd7"
   },
   "source": [
    "* Continuous data - Yes, the time spent on the page is measured on a continuous scale.\n",
    "* Normally distributed populations - Yes, we are informed that the populations are assumed to be normal.\n",
    "* Independent observations - As we are taking the sampled unit randomly, the observed units are independent.\n",
    "* Random sampling from the population - Yes, we are informed that the collected sample that was split into two\n",
    "groups is a random sample.\n",
    "\n",
    "Since the assumptions are satisfied we can use the paired sample T-test for this problem."
   ]
  },
  {
   "cell_type": "markdown",
   "id": "3f58c9a7",
   "metadata": {
    "id": "3f58c9a7"
   },
   "source": [
    "### Step 3: Decide the significance level"
   ]
  },
  {
   "cell_type": "markdown",
   "id": "92d7d7ee",
   "metadata": {
    "id": "92d7d7ee"
   },
   "source": [
    "alpha = 0.5"
   ]
  },
  {
   "cell_type": "markdown",
   "id": "5fed2eac",
   "metadata": {
    "id": "5fed2eac"
   },
   "source": [
    "### Step 4: Collect and prepare data"
   ]
  },
  {
   "cell_type": "code",
   "execution_count": 31,
   "id": "f5a59495",
   "metadata": {
    "id": "f5a59495"
   },
   "outputs": [],
   "source": [
    "old_time_on_page = df[old_page_mask]['time_spent_on_the_page'].copy()\n",
    "new_time_on_page = df[new_page_mask]['time_spent_on_the_page'].copy()"
   ]
  },
  {
   "cell_type": "markdown",
   "id": "f5c5258d",
   "metadata": {
    "id": "f5c5258d"
   },
   "source": [
    "### Step 5: Calculate the p-value"
   ]
  },
  {
   "cell_type": "code",
   "execution_count": 32,
   "id": "fac8594a",
   "metadata": {
    "id": "fac8594a"
   },
   "outputs": [
    {
     "name": "stdout",
     "output_type": "stream",
     "text": [
      "The p-value is  0.00029910900937037973\n"
     ]
    }
   ],
   "source": [
    "# find the p-value\n",
    "test_stat, p_value = ttest_rel(new_time_on_page, old_time_on_page, alternative = 'greater')\n",
    "print('The p-value is ', p_value)"
   ]
  },
  {
   "cell_type": "markdown",
   "id": "359b12f8",
   "metadata": {
    "id": "359b12f8"
   },
   "source": [
    "### Step 6: Compare the p-value with $\\alpha$"
   ]
  },
  {
   "cell_type": "markdown",
   "id": "e8ae87d6",
   "metadata": {
    "id": "7be47289"
   },
   "source": [
    "- The p-value of 0.00029 is less than the alpha (0.05)."
   ]
  },
  {
   "cell_type": "markdown",
   "id": "d9affc84",
   "metadata": {
    "id": "d9affc84"
   },
   "source": [
    "### Step 7:  Draw inference"
   ]
  },
  {
   "cell_type": "markdown",
   "id": "6b16dd4b",
   "metadata": {
    "id": "6b16dd4b"
   },
   "source": [
    "As the p-value (0.00029) is less than the level of significance (.05), we can reject the null hypothesis. Hence, we do have enough evidence to support visitors on average spend more time on the new landing page compared to the old page."
   ]
  },
  {
   "cell_type": "markdown",
   "id": "353e9d24",
   "metadata": {
    "id": "353e9d24"
   },
   "source": [
    "## 2. Is the conversion rate (the proportion of users who visit the landing page and get converted) for the new page greater than the conversion rate for the old page?"
   ]
  },
  {
   "cell_type": "markdown",
   "id": "d6cbc7cb",
   "metadata": {
    "id": "b7f52898"
   },
   "source": [
    "### Perform Visual Analysis"
   ]
  },
  {
   "cell_type": "code",
   "execution_count": 33,
   "id": "d3a28015",
   "metadata": {},
   "outputs": [
    {
     "data": {
      "image/png": "[encoded data removed]",
      "text/plain": [
       "<Figure size 504x252 with 1 Axes>"
      ]
     },
     "metadata": {
      "needs_background": "light"
     },
     "output_type": "display_data"
    },
    {
     "data": {
      "text/html": [
       "<div>\n",
       "<style scoped>\n",
       "    .dataframe tbody tr th:only-of-type {\n",
       "        vertical-align: middle;\n",
       "    }\n",
       "\n",
       "    .dataframe tbody tr th {\n",
       "        vertical-align: top;\n",
       "    }\n",
       "\n",
       "    .dataframe thead th {\n",
       "        text-align: right;\n",
       "    }\n",
       "</style>\n",
       "<table border=\"1\" class=\"dataframe\">\n",
       "  <thead>\n",
       "    <tr style=\"text-align: right;\">\n",
       "      <th>converted</th>\n",
       "      <th>no</th>\n",
       "      <th>yes</th>\n",
       "    </tr>\n",
       "    <tr>\n",
       "      <th>landing_page</th>\n",
       "      <th></th>\n",
       "      <th></th>\n",
       "    </tr>\n",
       "  </thead>\n",
       "  <tbody>\n",
       "    <tr>\n",
       "      <th>new</th>\n",
       "      <td>0.340</td>\n",
       "      <td>0.660</td>\n",
       "    </tr>\n",
       "    <tr>\n",
       "      <th>old</th>\n",
       "      <td>0.580</td>\n",
       "      <td>0.420</td>\n",
       "    </tr>\n",
       "  </tbody>\n",
       "</table>\n",
       "</div>"
      ],
      "text/plain": [
       "converted       no   yes\n",
       "landing_page            \n",
       "new          0.340 0.660\n",
       "old          0.580 0.420"
      ]
     },
     "execution_count": 33,
     "metadata": {},
     "output_type": "execute_result"
    }
   ],
   "source": [
    "# Output crosstab plot landing_page vs. converted\n",
    "output_pretty_crosstab_plot('Boxplot: Crosstab landing_page vs. converted', \\\n",
    "                            df['landing_page'], df['converted'])"
   ]
  },
  {
   "cell_type": "markdown",
   "id": "bc9410ad",
   "metadata": {
    "heading_collapsed": true
   },
   "source": [
    "### Observations\n",
    "- The new landing page has a 66% conversion rate (33/50) new subscribers.\n",
    "- The old page has a 42% conversion rate (21/50) to new subscribers."
   ]
  },
  {
   "cell_type": "markdown",
   "id": "48f1d7d9",
   "metadata": {},
   "source": [
    "### Step 1: Define the null and alternate hypotheses"
   ]
  },
  {
   "cell_type": "markdown",
   "id": "705518ff",
   "metadata": {},
   "source": [
    "Let $p_1, p_2$ be the proportion of visitors visiting the new page and converting to the proportion of visitors visiting the old page and converting respectively.\n",
    "\n",
    "We will test the null hypothesis\n",
    "\n",
    ">$H_0:p_1=p_2$\n",
    "\n",
    "against the alternate hypothesis\n",
    "\n",
    ">$H_a:p_1>p_2$"
   ]
  },
  {
   "cell_type": "markdown",
   "id": "56a70aa6",
   "metadata": {},
   "source": [
    "### Step 2: Select Appropriate test"
   ]
  },
  {
   "cell_type": "markdown",
   "id": "bbf8295c",
   "metadata": {},
   "source": [
    "*   Binomally distributed population - Yes, the conversion rate for the new page is higher or not.\n",
    "*   Random sampling from the population - Yes, we are informed that the collected sample is a simple random sample.  \n",
    "*   Can the binomial distribution approximated to normal distribution - Yes. For binary data, CLT works slower than usual. The standard thing is to check whether np and n(1-p) are greater than or equal to 10. Here, n and p refer to the sample size and sample proportion respectively.\n",
    ">$np_1 = 50\\cdot \\frac{33}{50} =33 \\geq 10\\\\\n",
    "n(1-p_1) = 50 \\cdot \\frac{50-33}{50} =17 \\geq 10 \\\\\n",
    "np_2 = 50\\cdot \\frac{21}{50} =21 \\geq 10\\\\\n",
    "n(1-p_2) = 50 \\cdot \\frac{50-21}{50} =29 \\geq 10 $\n",
    "\n",
    "Since the assumptions are satisfied we can use the two proportion Z-test"
   ]
  },
  {
   "cell_type": "markdown",
   "id": "043d432a",
   "metadata": {},
   "source": [
    "### Step 3: Decide the significance level"
   ]
  },
  {
   "cell_type": "markdown",
   "id": "624b4b37",
   "metadata": {},
   "source": [
    "alpha = 0.5"
   ]
  },
  {
   "cell_type": "markdown",
   "id": "9cb9b0d2",
   "metadata": {},
   "source": [
    "### Step 4: Collect and prepare data"
   ]
  },
  {
   "cell_type": "code",
   "execution_count": 34,
   "id": "bebe0656",
   "metadata": {},
   "outputs": [],
   "source": [
    "new_page_conversion_count = 33\n",
    "old_page_conversion_count = 21\n",
    "new_page_n = 50\n",
    "old_page_n = 50;\n",
    "\n",
    "# set the counts of for sucessful conversion rates based on landing_page\n",
    "conversion_count = np.array([new_page_conversion_count, old_page_conversion_count])\n",
    "\n",
    "# set the sample sizes\n",
    "nobs = np.array([new_page_n, old_page_n])"
   ]
  },
  {
   "cell_type": "markdown",
   "id": "24040461",
   "metadata": {},
   "source": [
    "### Step 5: Calculate the p-value"
   ]
  },
  {
   "cell_type": "code",
   "execution_count": 35,
   "id": "6ebe5df5",
   "metadata": {},
   "outputs": [
    {
     "name": "stdout",
     "output_type": "stream",
     "text": [
      "The p-value is 0.008026308204056278\n"
     ]
    }
   ],
   "source": [
    "# find the p-value\n",
    "test_stat, p_value = proportions_ztest(conversion_count, nobs, alternative='larger')\n",
    "print('The p-value is {}'.format(p_value))"
   ]
  },
  {
   "cell_type": "markdown",
   "id": "5af242d6",
   "metadata": {},
   "source": [
    "### Step 6: Compare the p-value with $\\alpha$"
   ]
  },
  {
   "cell_type": "markdown",
   "id": "f84d0498",
   "metadata": {},
   "source": [
    "- The p-value of 0.0080263 is less than alpha (0.05)."
   ]
  },
  {
   "cell_type": "markdown",
   "id": "54c5f82a",
   "metadata": {},
   "source": [
    "### Step 7:  Draw inference"
   ]
  },
  {
   "cell_type": "markdown",
   "id": "dff1c5be",
   "metadata": {},
   "source": [
    "As the p-value (0.0080263) is less than the level of significance, we can reject the null hypothesis. Hence, we do have enough evidence to support the new page has a conversion rate greater than the old page."
   ]
  },
  {
   "cell_type": "markdown",
   "id": "d49bfa2d",
   "metadata": {
    "id": "d49bfa2d"
   },
   "source": [
    "## 3. Is the conversion and preferred language independent or related?"
   ]
  },
  {
   "cell_type": "markdown",
   "id": "f4505706",
   "metadata": {
    "id": "b0e63f17"
   },
   "source": [
    "### Perform Visual Analysis"
   ]
  },
  {
   "cell_type": "code",
   "execution_count": 36,
   "id": "da73e060",
   "metadata": {},
   "outputs": [
    {
     "data": {
      "image/png": "[encoded data removed]",
      "text/plain": [
       "<Figure size 504x252 with 1 Axes>"
      ]
     },
     "metadata": {
      "needs_background": "light"
     },
     "output_type": "display_data"
    },
    {
     "data": {
      "text/html": [
       "<div>\n",
       "<style scoped>\n",
       "    .dataframe tbody tr th:only-of-type {\n",
       "        vertical-align: middle;\n",
       "    }\n",
       "\n",
       "    .dataframe tbody tr th {\n",
       "        vertical-align: top;\n",
       "    }\n",
       "\n",
       "    .dataframe thead th {\n",
       "        text-align: right;\n",
       "    }\n",
       "</style>\n",
       "<table border=\"1\" class=\"dataframe\">\n",
       "  <thead>\n",
       "    <tr style=\"text-align: right;\">\n",
       "      <th>converted</th>\n",
       "      <th>no</th>\n",
       "      <th>yes</th>\n",
       "    </tr>\n",
       "    <tr>\n",
       "      <th>language_preferred</th>\n",
       "      <th></th>\n",
       "      <th></th>\n",
       "    </tr>\n",
       "  </thead>\n",
       "  <tbody>\n",
       "    <tr>\n",
       "      <th>English</th>\n",
       "      <td>0.344</td>\n",
       "      <td>0.656</td>\n",
       "    </tr>\n",
       "    <tr>\n",
       "      <th>French</th>\n",
       "      <td>0.559</td>\n",
       "      <td>0.441</td>\n",
       "    </tr>\n",
       "    <tr>\n",
       "      <th>Spanish</th>\n",
       "      <td>0.471</td>\n",
       "      <td>0.529</td>\n",
       "    </tr>\n",
       "  </tbody>\n",
       "</table>\n",
       "</div>"
      ],
      "text/plain": [
       "converted             no   yes\n",
       "language_preferred            \n",
       "English            0.344 0.656\n",
       "French             0.559 0.441\n",
       "Spanish            0.471 0.529"
      ]
     },
     "execution_count": 36,
     "metadata": {},
     "output_type": "execute_result"
    }
   ],
   "source": [
    "# Output crosstab plot of converted vs. language preferred vs group\n",
    "output_pretty_crosstab_plot(\"Barplot: Contigency table of converted vs language_preferred\", \\\n",
    "                            df['language_preferred'], df['converted'])"
   ]
  },
  {
   "cell_type": "markdown",
   "id": "a7aa5e19",
   "metadata": {},
   "source": [
    "### Observations\n",
    "- English speakers converted to subscribers 65.6% of the time.\n",
    "- French speakers converted to subscribers 44.1% of the time.\n",
    "- Spanish speakers converted to subscribers 52.9% of the time."
   ]
  },
  {
   "cell_type": "markdown",
   "id": "b34bec1c",
   "metadata": {},
   "source": [
    "### Step 1: Define the null and alternate hypotheses"
   ]
  },
  {
   "cell_type": "markdown",
   "id": "87d4f049",
   "metadata": {},
   "source": [
    "We will test the null hypothesis\n",
    "\n",
    ">$H_0:$ Conversion is independent of preferred language.\n",
    "\n",
    "against the alternate hypothesis\n",
    "\n",
    ">$H_a:$ Conversion depends of preferred language."
   ]
  },
  {
   "cell_type": "markdown",
   "id": "35f31074",
   "metadata": {},
   "source": [
    "### Step 2: Select Appropriate test"
   ]
  },
  {
   "cell_type": "markdown",
   "id": "a66d924c",
   "metadata": {},
   "source": [
    "* Categorical variables - Yes\n",
    "* Expected value of the number of sample observations in each level of the variable is at least 5 - Yes, the number of observations in each level is greater than 5.\n",
    "* Random sampling from the population - Yes, we are informed that the collected sample is a simple random sample.\n",
    "\n",
    "Since the assumptions are satisfied we can use the Chi-Square test for independence"
   ]
  },
  {
   "cell_type": "markdown",
   "id": "da1ceadd",
   "metadata": {},
   "source": [
    "### Step 3: Decide the significance level"
   ]
  },
  {
   "cell_type": "code",
   "execution_count": 37,
   "id": "a4c34084",
   "metadata": {},
   "outputs": [],
   "source": [
    "alpha = 0.5"
   ]
  },
  {
   "cell_type": "markdown",
   "id": "bbad4675",
   "metadata": {},
   "source": [
    "### Step 4: Collect and prepare data"
   ]
  },
  {
   "cell_type": "code",
   "execution_count": 38,
   "id": "73f52290",
   "metadata": {},
   "outputs": [],
   "source": [
    "# Build a contigency table containing only 'converted', 'language_preferred'\n",
    "chi2_contigency = pd.crosstab(df['converted'], df['language_preferred'])\n",
    "\n",
    "# Break out contigency tables based on new and old landing page as well\n",
    "chi2_new_contigency = pd.crosstab(df[new_page_mask]['converted'], \\\n",
    "                                  df[new_page_mask]['language_preferred'])\n",
    "chi2_old_contigency = pd.crosstab(df[old_page_mask]['converted'], \\\n",
    "                                  df[old_page_mask]['language_preferred'])"
   ]
  },
  {
   "cell_type": "markdown",
   "id": "614ad56c",
   "metadata": {},
   "source": [
    "### Step 5: Calculate the p-value"
   ]
  },
  {
   "cell_type": "code",
   "execution_count": 39,
   "id": "965858ae",
   "metadata": {},
   "outputs": [
    {
     "name": "stdout",
     "output_type": "stream",
     "text": [
      "The p-value is 0.21298887487543447\n",
      "The p-value for new landing_page exclusively is 0.8783081441552572\n",
      "The p-value old landing_page exclusively is 0.012013484079071492\n"
     ]
    }
   ],
   "source": [
    "# find the p-value\n",
    "chi, p_value, dof, expected = chi2_contingency(chi2_contigency)\n",
    "print('The p-value is', p_value)\n",
    "\n",
    "# find the p-value for the new page exclusively\n",
    "chi, p_value, dof, expected = chi2_contingency(chi2_new_contigency)\n",
    "print('The p-value for new landing_page exclusively is', p_value)\n",
    "\n",
    "# find the p-value for the old page exclusively\n",
    "chi, p_value, dof, expected = chi2_contingency(chi2_old_contigency)\n",
    "print('The p-value old landing_page exclusively is', p_value)"
   ]
  },
  {
   "cell_type": "markdown",
   "id": "a8303879",
   "metadata": {},
   "source": [
    "### Step 6: Compare the p-value with $\\alpha$"
   ]
  },
  {
   "cell_type": "markdown",
   "id": "0fc09816",
   "metadata": {},
   "source": [
    "- The p-value of 0.2129 is greater than alpha (0.05).\n",
    "- That the p-value for new page exclusively 0.8783 is also greater than alpha (0.05).\n",
    "- That the p-value for old page exclusively 0.012 is less than alpha (0.05). This finding could indicate that the new landing page impacts the dependency between landing_page and language_preferred."
   ]
  },
  {
   "cell_type": "markdown",
   "id": "36d4d749",
   "metadata": {},
   "source": [
    "### Step 7:  Draw inference"
   ]
  },
  {
   "cell_type": "markdown",
   "id": "c86c49aa",
   "metadata": {},
   "source": [
    "As the p-value (0.2129) is greater than the level of significance (.05), we fail to reject the null hypothesis. Hence, we do not have enough evidence to support that conversion is dependent on language preferred."
   ]
  },
  {
   "cell_type": "markdown",
   "id": "8d585a90",
   "metadata": {
    "id": "8d585a90"
   },
   "source": [
    "## 4. Is the time spent on the new page same for the different language users?"
   ]
  },
  {
   "cell_type": "markdown",
   "id": "bf6d6cb3",
   "metadata": {
    "id": "b422f395"
   },
   "source": [
    "### Perform Visual Analysis"
   ]
  },
  {
   "cell_type": "code",
   "execution_count": 40,
   "id": "10f074f1",
   "metadata": {},
   "outputs": [
    {
     "name": "stdout",
     "output_type": "stream",
     "text": [
      "Median time spent by languages for new page\n",
      "language_preferred\n",
      "English   6.865\n",
      "French    5.420\n",
      "Spanish   6.200\n",
      "Name: time_spent_on_the_page, dtype: float64\n",
      "\n",
      "Mean time spent by languages for new page\n",
      "language_preferred\n",
      "English   6.664\n",
      "French    6.196\n",
      "Spanish   5.835\n",
      "Name: time_spent_on_the_page, dtype: float64\n"
     ]
    },
    {
     "data": {
      "image/png": "[encoded data removed]",
      "text/plain": [
       "<Figure size 720x288 with 1 Axes>"
      ]
     },
     "metadata": {
      "needs_background": "light"
     },
     "output_type": "display_data"
    }
   ],
   "source": [
    "new_mask_df = df[new_page_mask].copy()\n",
    "\n",
    "# find the sample means and sample standard deviations for the three samples\n",
    "print('Median time spent by languages for new page\\n{}'.format(new_mask_df\\\n",
    "                                                        .groupby(\"language_preferred\")\\\n",
    "                                                               [\"time_spent_on_the_page\"].median()))\n",
    "print('\\nMean time spent by languages for new page\\n{}'.format(new_mask_df\\\n",
    "                                                        .groupby(\"language_preferred\")\\\n",
    "                                                               [\"time_spent_on_the_page\"].mean()))\n",
    "\n",
    "# draw the boxplot for visualization \n",
    "output_pretty_boxplot('Boxplot: time_spent_on_the_page (new page) w.r.t. languages', new_mask_df,\\\n",
    "                          x='language_preferred', y='time_spent_on_the_page',\\\n",
    "                     figsize=(10,4));"
   ]
  },
  {
   "cell_type": "markdown",
   "id": "1cb6168e",
   "metadata": {},
   "source": [
    "### Observations\n",
    "- The mean for time_spent_on_the_page for English language is 6.66 which is less than the median (6.86) thus the data is left skewed.\n",
    "- The mean for time_spent_on_the_page for Spanish language is 5.835 which is less than the median (6.2) thus the data is left skewed.\n",
    "- The mean for time_spent_on_the_page for French language is 6.196 which is greater than the median (5.42) thus the data is right skewed.\n",
    "\n",
    "- Spanish language time_spent_on_the_page has an outlier.\n",
    "- French language time_spent_on_the_page has an outlier.\n"
   ]
  },
  {
   "cell_type": "markdown",
   "id": "7354af16",
   "metadata": {},
   "source": [
    "### Step 1: Define the null and alternate hypotheses"
   ]
  },
  {
   "cell_type": "markdown",
   "id": "fdce29b8",
   "metadata": {},
   "source": [
    "Let $\\mu_1, \\mu_2, \\mu_3$ be the mean time_spent_on_the_page for the new landing page for language of Spanish, English and French respectively.\n",
    "\n",
    "We will test the null hypothesis\n",
    "\n",
    ">$H_0: \\mu_1 = \\mu_2 = \\mu_3$\n",
    "\n",
    "against the alternative hypothesis\n",
    "\n",
    ">$H_a: $ At least one time_spent_on_the_page mean based on language is different from the rest."
   ]
  },
  {
   "cell_type": "markdown",
   "id": "e7685711",
   "metadata": {},
   "source": [
    "### Step 2: Select Appropriate test"
   ]
  },
  {
   "cell_type": "markdown",
   "id": "5bfaad30",
   "metadata": {},
   "source": [
    "#### Test for normality via the Shapiro-Wilk’s test"
   ]
  },
  {
   "cell_type": "markdown",
   "id": "a9dc859c",
   "metadata": {},
   "source": [
    "We will test the null hypothesis\n",
    "\n",
    ">$H_0:$ Mean time_spent_on_the_page for the new landing page for language follows a normal distribution.\n",
    "\n",
    "against the alternative hypothesis\n",
    "\n",
    ">$H_a:$ Mean time_spent_on_the_page for the new landing page for language does not follow a normal distribution."
   ]
  },
  {
   "cell_type": "markdown",
   "id": "eb9c5a95",
   "metadata": {},
   "source": [
    "The shapiro() function of Scipy will be used to compute the test statistic and p-value."
   ]
  },
  {
   "cell_type": "code",
   "execution_count": 41,
   "id": "eb958ae9",
   "metadata": {},
   "outputs": [
    {
     "name": "stdout",
     "output_type": "stream",
     "text": [
      "The Shapiro p-value is 0.8040016293525696\n"
     ]
    }
   ],
   "source": [
    "# find the p-value\n",
    "w, p_value = stats.shapiro(new_mask_df['time_spent_on_the_page']) \n",
    "print('The Shapiro p-value is', p_value)"
   ]
  },
  {
   "cell_type": "markdown",
   "id": "ae734c4b",
   "metadata": {},
   "source": [
    "#### Insight\n",
    "\n",
    "Since p-value 0.8040 is greater than alpha (.05), we fail to reject the null hypothesis that the response follows the normal distribution"
   ]
  },
  {
   "cell_type": "markdown",
   "id": "254d1a9c",
   "metadata": {},
   "source": [
    "#### Test for equality of variance via the Levene’s test test"
   ]
  },
  {
   "cell_type": "markdown",
   "id": "0eca74ff",
   "metadata": {},
   "source": [
    "We will test the null hypothesis\n",
    "\n",
    ">$H_0$: All the population variances are equal\n",
    "\n",
    "against the alternative hypothesis\n",
    "\n",
    ">$H_a$: At least one variance is different from the rest"
   ]
  },
  {
   "cell_type": "markdown",
   "id": "6454e35f",
   "metadata": {},
   "source": [
    "The [`levene()`](https://docs.scipy.org/doc/scipy/reference/generated/scipy.stats.shapiro.html) function of Scipy will be used to compute the test statistic and p-value."
   ]
  },
  {
   "cell_type": "code",
   "execution_count": 42,
   "id": "32219956",
   "metadata": {},
   "outputs": [
    {
     "name": "stdout",
     "output_type": "stream",
     "text": [
      "The Levene p-value is 0.46711357711340173\n"
     ]
    }
   ],
   "source": [
    "#Assumption 2: Homogeneity of Variance\n",
    "statistic, p_value = levene(new_mask_df['time_spent_on_the_page'][new_mask_df['language_preferred']==\"English\"], \n",
    "                            new_mask_df['time_spent_on_the_page'][new_mask_df['language_preferred']==\"Spanish\"], \n",
    "                            new_mask_df['time_spent_on_the_page'][new_mask_df['language_preferred']==\"French\"])\n",
    "# find the p-value\n",
    "print('The Levene p-value is', p_value)"
   ]
  },
  {
   "cell_type": "markdown",
   "id": "3524b843",
   "metadata": {},
   "source": [
    "#### Insight\n",
    "- Since the p-value 0.4671 is greater than alpha, we fail to reject the null hypothesis of homogeneity of variances.\n",
    "\n",
    "#### Since the above assumptions are satisfied we can use the one-way anova test"
   ]
  },
  {
   "cell_type": "markdown",
   "id": "1b82e2a6",
   "metadata": {},
   "source": [
    "### Step 3: Decide the significance level"
   ]
  },
  {
   "cell_type": "markdown",
   "id": "9875ec16",
   "metadata": {},
   "source": [
    "- alpha = 0.5"
   ]
  },
  {
   "cell_type": "markdown",
   "id": "1ada17ce",
   "metadata": {},
   "source": [
    "### Step 4: Collect and prepare data"
   ]
  },
  {
   "cell_type": "code",
   "execution_count": 43,
   "id": "ef7982b3",
   "metadata": {},
   "outputs": [],
   "source": [
    "spanish_time_spent = new_mask_df.loc[new_mask_df['language_preferred'] == 'Spanish', 'time_spent_on_the_page']\n",
    "english_time_spent = new_mask_df.loc[new_mask_df['language_preferred'] == 'English', 'time_spent_on_the_page']\n",
    "french_time_spent = new_mask_df.loc[new_mask_df['language_preferred'] == 'French', 'time_spent_on_the_page']"
   ]
  },
  {
   "cell_type": "markdown",
   "id": "665afca5",
   "metadata": {},
   "source": [
    "### Step 5: Calculate the p-value"
   ]
  },
  {
   "cell_type": "code",
   "execution_count": 44,
   "id": "f800fc52",
   "metadata": {},
   "outputs": [
    {
     "name": "stdout",
     "output_type": "stream",
     "text": [
      "The p-value is 0.43204138694325955\n"
     ]
    }
   ],
   "source": [
    "# perform one-way anova test\n",
    "test_stat, p_value = f_oneway(spanish_time_spent,\n",
    "                              english_time_spent, french_time_spent)\n",
    "print('The p-value is ' + str(p_value))"
   ]
  },
  {
   "cell_type": "markdown",
   "id": "43bd22dc",
   "metadata": {},
   "source": [
    "### Step 6: Compare the p-value with $\\alpha$"
   ]
  },
  {
   "cell_type": "markdown",
   "id": "76b9f92c",
   "metadata": {},
   "source": [
    "- The p-value of 0.4320 is greater than the significance level alpha (0.05)."
   ]
  },
  {
   "cell_type": "markdown",
   "id": "0d205d79",
   "metadata": {},
   "source": [
    "### Step 7:  Draw inference"
   ]
  },
  {
   "cell_type": "markdown",
   "id": "3b097332",
   "metadata": {},
   "source": [
    "- As the p-value (0.4320) is greater than the level of significance, we fail to reject the null hypothesis. Hence, we do not have enough evidence to support the claim that the mean time_spent_on_the_page for the new landing page for each language is different."
   ]
  },
  {
   "cell_type": "markdown",
   "id": "3acbc947",
   "metadata": {
    "id": "3acbc947"
   },
   "source": [
    "## Conclusion and Business Recommendations"
   ]
  },
  {
   "cell_type": "markdown",
   "id": "21fb1063",
   "metadata": {
    "id": "21fb1063"
   },
   "source": [
    "#### Conclusions:\n",
    "* We do have enough evidence to support visitors on average spend more time on the new landing page compared to the old page.\n",
    "* We do have enough evidence to support the new page has a conversion rate greater than the old page.\n",
    "* We do not have enough evidence to support that conversion is dependent on language preferred.\n",
    "* We do not have enough evidence to support the claim that the mean time_spent_on_the_page for the new landing page for each language is different.\n",
    "* Overall 66% of the visitors who used the new landing page converted to subscribers while only 42% of the visitors who used the old landing page converted to subscribers.\n",
    "* 65.6% of the English visitors, 44.1% of the French visitors and 52.9% of Spanish visitors converted to subscribers with respect to new and old landing pages collectively.\n",
    "* The conversion rate with respect to language_preferred and landing_page (old to new) were mixed with English dropping 9.16%, French increasing 301.14% and Spanish increasing 57.04%."
   ]
  },
  {
   "cell_type": "markdown",
   "id": "405a61e8",
   "metadata": {},
   "source": [
    "#### Further analysis that can be done:\n",
    "* Evaluate the translation for the three languages from the old page to the new to see if this played a role with conversion rate mixed results (i.e. French/Spanish increasing and English decreasing). \n",
    "* Evaluate the content on the old and new page with respect to language to see if this played a role with conversion rate mixed results (i.e. French/Spanish increasing and English decreasing). \n",
    "* Acquire age and gender data in order to further investigate visitor conversion tendencies.\n",
    "* Review the approach used to split the randomly selected 100 visitors into the control and treatment subgroups to ensure no bias was introduced.\n",
    "* Investigate if there are other preferred languages visitors desire outside of English, French and Spanish and rerun analysis."
   ]
  },
  {
   "cell_type": "code",
   "execution_count": 45,
   "id": "fb496576",
   "metadata": {},
   "outputs": [
    {
     "data": {
      "text/plain": [
       "34.11190965092402"
      ]
     },
     "execution_count": 45,
     "metadata": {},
     "output_type": "execute_result"
    }
   ],
   "source": [
    "percent_diff(3.896332308293038, 5.225481758800481)"
   ]
  },
  {
   "cell_type": "code",
   "execution_count": 46,
   "id": "3eb9f5f4",
   "metadata": {},
   "outputs": [
    {
     "data": {
      "text/plain": [
       "14.961496149614955"
      ]
     },
     "execution_count": 46,
     "metadata": {},
     "output_type": "execute_result"
    }
   ],
   "source": [
    "percent_diff(4.544867815395594, 5.225481758800481)"
   ]
  },
  {
   "cell_type": "markdown",
   "id": "U0dAd4i0iCHo",
   "metadata": {
    "id": "U0dAd4i0iCHo"
   },
   "source": [
    "___"
   ]
  }
 ],
 "metadata": {
  "colab": {
   "collapsed_sections": [
    "a6a3d218",
    "6970dd99",
    "9d75cfa2",
    "68f3b2c9",
    "fad2de2f",
    "27906576",
    "e5fdf0c8",
    "56b3dafd",
    "c7ee4907",
    "3f58c9a7",
    "5fed2eac",
    "f5c5258d",
    "359b12f8",
    "d9affc84",
    "353e9d24",
    "d49bfa2d",
    "8d585a90",
    "3acbc947"
   ],
   "name": "ENews_Express_Learner_Notebook_Full_Code v1.1.ipynb",
   "provenance": []
  },
  "kernelspec": {
   "display_name": "Python 3 (ipykernel)",
   "language": "python",
   "name": "python3"
  },
  "language_info": {
   "codemirror_mode": {
    "name": "ipython",
    "version": 3
   },
   "file_extension": ".py",
   "mimetype": "text/x-python",
   "name": "python",
   "nbconvert_exporter": "python",
   "pygments_lexer": "ipython3",
   "version": "3.9.12"
  }
 },
 "nbformat": 4,
 "nbformat_minor": 5
}
